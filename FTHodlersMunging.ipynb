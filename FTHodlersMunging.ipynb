{
 "cells": [
  {
   "cell_type": "code",
   "execution_count": 126,
   "metadata": {},
   "outputs": [],
   "source": [
    "import json\n",
    "import requests\n",
    "import pandas as pd"
   ]
  },
  {
   "cell_type": "code",
   "execution_count": 127,
   "metadata": {},
   "outputs": [],
   "source": [
    "response = requests.get('https://x49de3ugp0.execute-api.us-east-1.amazonaws.com/dev/tokenInfo/180000000000024e')\n",
    "hodlersdict = json.loads(response.text)"
   ]
  },
  {
   "cell_type": "code",
   "execution_count": 128,
   "metadata": {},
   "outputs": [
    {
     "data": {
      "text/plain": [
       "list"
      ]
     },
     "execution_count": 128,
     "metadata": {},
     "output_type": "execute_result"
    }
   ],
   "source": [
    "type(hodlersdict['tokenHolders'])"
   ]
  },
  {
   "cell_type": "code",
   "execution_count": 129,
   "metadata": {},
   "outputs": [
    {
     "name": "stdout",
     "output_type": "stream",
     "text": [
      "[{'address': '0x0a1cdf92ae3d7ca0ec00578fcf6f256841d138d5', 'value': 1}, {'address': '0x8c3b8446d3065190e1c22a45ee379cec1e1dd8c9', 'value': 1}, {'address': '0x541528c614027c4c92c75cdd7eb21517c3b97135', 'value': 1}, {'address': '0x214dc01079ba32b6f02c37447b7c2bbc82fe4bbe', 'value': 0}, {'address': '0xd4681c26bc16b659125ed238af08091ddcf13db9', 'value': 1}, {'address': '0xe36dca383f339294bf73742e57cf305ed1b54ff2', 'value': 1}, {'address': '0x7bd91652c6241b684cecc1a0ce1670d4acd266a3', 'value': 1}, {'address': '0xb3bb6698d63f833e561ea7ec3d1f540bef3f84d8', 'value': 1}, {'address': '0x4cf93693586fe5e2f2c7097140f2efa23e3e3fba', 'value': 0}, {'address': '0xa5855f4f40a409ffde3a171eb616926aec5d7b9c', 'value': 0}, {'address': '0xe0b68438291921c8aefed35c93fecdde750c1bba', 'value': 1}, {'address': '0x3e0206d18172c12380ea6b3fbd897c0a9535a499', 'value': 1}, {'address': '0x87715862df81a00da1e1b1309d7d6dc02b309e08', 'value': 1}, {'address': '0xace75f15b6db31f3c014577417b5773d8524df1d', 'value': 0}, {'address': '0x1947d9cfd6ae6fdc55298a5f40de93d73ea06e85', 'value': 1}, {'address': '0xf246b106e8ce5fcd945cbcd27a01ae61c0d28578', 'value': 0}, {'address': '0xb980e0e063be05168bf6cc9d7e7e9b8986c79950', 'value': 1}, {'address': '0x03f1ec9e7df623c4bb2cd90765aa0b73b1bc503e', 'value': 1}, {'address': '0x8a76f3428ac3c9de20156d517797b5cc433c44dd', 'value': 1}, {'address': '0xa5c843850aedfdc5254ec52dd73c99ff2e648a95', 'value': 1}, {'address': '0x33af4dde7f2a2298b97ec5a5accca82d27bb269c', 'value': 1}, {'address': '0xe9d2cceaf1805660a061a2c4d1d0318909753add', 'value': 0}, {'address': '0xdf1028681f67ad71acd904193c36e96c593d09c7', 'value': 1}, {'address': '0xfa9a93d83d5b0ba6d8002edd20f3be4416d9bc1c', 'value': 2}, {'address': '0x42f17d0bafd731c60bf85bba88db2556499722c9', 'value': 1}, {'address': '0xca822e0aad9f4edf9bde2a9ea4ba45421300d5ce', 'value': 0}, {'address': '0x974efa242e2ce5282fe5d4379e4e9046bef70317', 'value': 0}, {'address': '0x0813219cb05bd99f6c7fe71086ce17c570f2f046', 'value': 1}, {'address': '0xca910e28b48f4f7ce4a28a23cb35d90ab0a4715d', 'value': 0}, {'address': '0x4b43041e418b16bb7dcf94a09f721cc73574fc04', 'value': 1}, {'address': '0x3b3f4e62da3a073d3c36a70c4dbcce383225ec0d', 'value': 1}, {'address': '0x30232adca29def3d8fb47189deeb8aaa465e8f89', 'value': 1}, {'address': '0x2f8bb67cbbd0555b0db6c0424d6ee46419f772b7', 'value': 1}, {'address': '0xc52beeb1bcaf79104d17bf7a345f4394e97fb76c', 'value': 0}, {'address': '0xe7472d1bf73d6e8aefcff059bf6a74b96b9c6988', 'value': 0}, {'address': '0x76a26f8f5b57012f8d7caf68a229e09be7dd5359', 'value': 1}, {'address': '0x96053b0df7ce7220984db30044e3f4152d2b851d', 'value': 0}, {'address': '0x88a878ff8fc3d2c626d698241e635f18b2fa6c6d', 'value': 1}, {'address': '0x089d093c53e1b4056247ed553d01456b1a0935d1', 'value': 0}, {'address': '0x6372a2d51978fb498a97afc6a2d7eace825493cc', 'value': 1}, {'address': '0x1da83833eaa9e9303615f9c03c52e802302bd053', 'value': 1}, {'address': '0x339753bf07f69a800aabcdd820264f77ba0ad531', 'value': 1}, {'address': '0x7bbdf8ad9da250369217092a3df615241e852ad2', 'value': 1}, {'address': '0x29d86fc15cd40f1c8e6d853c159c480d8674740f', 'value': 2}, {'address': '0x663965b034c496a507faa45093d3e171ccb3b9f8', 'value': 1}, {'address': '0x4b3054da60560cdfd2f0805ce2bd796ed5443d2d', 'value': 1}, {'address': '0x0ec74e46169bdcff89e9b984e026d254d824f8b7', 'value': 0}, {'address': '0x05f0cdca5df0977efbce98abf3ec31b716800789', 'value': 1}, {'address': '0x2c6ddcc3c25edb41235cb1afb515390eec05dc82', 'value': 1}, {'address': '0xb5dc8039912f4e84d669bf018d10518411f65579', 'value': 1}, {'address': '0xeabd9d954815fbd4ddb02cfba2be54adcb03237b', 'value': 1}, {'address': '0xbc2d8778bb8b9f93ee199b4876023a9603fb3288', 'value': 1}, {'address': '0x91c7ccd33ac79061770af5e411618c900dd13d47', 'value': 1}, {'address': '0x37d6a38326a66b263e4176c1ccd1c13cfb3579c9', 'value': 0}, {'address': '0xc68eb46973b7f32e06a2b1a70e4722eb3f57c7b4', 'value': 1}, {'address': '0x60818234089f86509e5a380bd1338930b81b4769', 'value': 0}, {'address': '0x0af1938c6b186297b0603f11ba03e28eb9dcc09d', 'value': 0}, {'address': '0xdfb895c870c4956261f4839dd12786ef612d7314', 'value': 0}, {'address': '0xa59789f21c8a3b7081d63002deab3e63af322a82', 'value': 1}, {'address': '0x0d1ea12e20ca59c184d9a9e9080ec0dd9a01d2a4', 'value': 0}, {'address': '0x958dfe4f112617f136f9cb084d2fb0238790a4c2', 'value': 2}, {'address': '0x6a72b386af014216ce57a2853e57d310b714703f', 'value': 0}, {'address': '0xc6f76f5bb6de40dc9ced62e72965099d22ad68b0', 'value': 1}, {'address': '0x79dee822ad0f47285d7d4e81c68a9174c59d7472', 'value': 1}, {'address': '0x2535d1675a13df980c10b775e39891603a95a877', 'value': 0}, {'address': '0xbec0be01ac3f6b83eb0bc1f0aeed9a7c34c873ef', 'value': 4}, {'address': '0x928e7e4d5df5db0253845ad3f0c4f75bcfeeac22', 'value': 0}, {'address': '0xcbfe16e4125f1429884ce92f389a4f6045f9a60e', 'value': 1}, {'address': '0xa0e348efe0e2227a075a10b66c0ccdcf9308fdc8', 'value': 1}, {'address': '0x3f8619067a61f4e5219f39997b46733bca0a5490', 'value': 1}, {'address': '0x6ec9a24013ac5bb4b097e2659ee63467718ef770', 'value': 1}, {'address': '0x929a3a6f2439abc5b270b20d5dc025f11b4321da', 'value': 4}, {'address': '0x63a7612fc2a4f77bb8cd05ff02d3136685789a6d', 'value': 1}, {'address': '0x3885e1dd203b0967a642e9e9ed99896e78451f2f', 'value': 1}, {'address': '0x181fb2ce9405a8d19e94c990c3272605399e7d00', 'value': 1}, {'address': '0xba477688fdc1c84f03684b3920b601a1c6d8a501', 'value': 1}, {'address': '0x84672827b34ba5734fc358298b0574dbab04c323', 'value': 0}, {'address': '0xc16d5a17cce96dc6c58b4817f1f1a651d7c85408', 'value': 1}, {'address': '0xcf0b5492360d271aec9a099437ab3d9fc1c53e77', 'value': 1}, {'address': '0x186b7506c3399e42c9e8c434582f7b4a1212de47', 'value': 1}, {'address': '0x150ba06dd80f1943e620185a12d148b386f4ff7a', 'value': 0}, {'address': '0x8f1c1cabaa030d9417dac330f0aaac010c7892b4', 'value': 1}, {'address': '0x7e1e653eee24c69cdbd722993da340ed7544baf8', 'value': 1}, {'address': '0xdf9fc1f36bdccfeed46a2c6d38ccd23c3227bfa3', 'value': 4}, {'address': '0x43ee859324e3882150faa78c726a91073612d87c', 'value': 1}, {'address': '0x1a26c8b86ca83b2b86a694ddf35f51e4b530dc99', 'value': 1}, {'address': '0xb686cbb158c0511c2d8e437a8f6b4f3c1076de69', 'value': 0}, {'address': '0x98b2bd42743f5bea16fb3a5f670049d479e5f77d', 'value': 1}, {'address': '0x3af6a6876879571f2245e87a9bcc3a196d9b4cf4', 'value': 0}, {'address': '0x928e95693d6269d220ba480361f31c7de534fcfc', 'value': 1}, {'address': '0x724086234daca88213de07411d243bcf6c52ed39', 'value': 1}, {'address': '0xfdcd9e072854d06663a854ffa605212013a02014', 'value': 0}, {'address': '0xb2b17c5f8c60304c5a5c3630efad273ecf544961', 'value': 1}, {'address': '0x76815d75707778fef3c5e6b2f20b689a8b6a509a', 'value': 1}, {'address': '0xd9bf3d211d3f35ae6a30c4752dfb7f8b3ba2ce25', 'value': 0}, {'address': '0xa1ecb46c0be223dff23efda8bd553d17b938af47', 'value': 2}, {'address': '0xe932b28a59ac2847e9c681210a5a9448556b2a22', 'value': 1}, {'address': '0xea1d04cd3a525b2cc8580ca4d401f8edc346a8ed', 'value': 1}, {'address': '0xac5d494a197e48a4ce3d9447de73d56ffa27dd48', 'value': 0}, {'address': '0x016a3cfc43f9646d6bc7defd9bc1affaf07aa7f3', 'value': 0}, {'address': '0x27dc30967a6f1648c2bb0a289c7ef2fe1cc3f6b7', 'value': 0}, {'address': '0x0fc6e89e76e8dd78dbed90f1ae7b19f2dc23b63c', 'value': 0}, {'address': '0x73c69689d21c9efea9b6de06d2aa7538fac678ad', 'value': 0}, {'address': '0x2ee08d92738181e4502dc9a7c2f5fe0764936edc', 'value': 0}, {'address': '0x09086a772d9e9b99380e2735bf4ff3dec3ead8f5', 'value': 1}, {'address': '0x237dffc61e3f2b4582d92444082ac05081d3c060', 'value': 0}, {'address': '0xc4f52c2f19c72832fe27f18b6e015cfc248e44cd', 'value': 1}, {'address': '0xc63960277f2351d40a291cf8e66f2c6625f46ac2', 'value': 1}, {'address': '0x4a78c473c73072c2c84cee7c5446912c525dae3b', 'value': 1}, {'address': '0xf3a95fb7cbbf612bd9982083934c7b5b29f7828b', 'value': 1}, {'address': '0xb79060f9b96db5845bf92e32bf90fef288c130c5', 'value': 1}, {'address': '0x0f37f1faa2dd3466e5d6fc7a4d25ec390535c267', 'value': 1}, {'address': '0x6ac5251a40474ab5442a6e17dec0d39d249f61e6', 'value': 1}, {'address': '0xaa1cc5543c558524c3db21d219fcee58af054f2c', 'value': 0}, {'address': '0x1a51853e50e1bbb4ad2fc916f974c1d4e6e936d7', 'value': 2}, {'address': '0x3be4311e0e38e76de52f6e5d26ef4acf323e4f1a', 'value': 0}, {'address': '0x9596c2d008f9808a73c624ab7dd934ce81f4f507', 'value': 1}, {'address': '0xb66c25d27fc323b12986861a443c0ab3554ebd34', 'value': 1}, {'address': '0xc054552b63f4b36ee8049e26b206b20cd1af1b8e', 'value': 1}, {'address': '0xd92f21a23e89a406a74661c135db7e7097675d55', 'value': 0}, {'address': '0x9372f8202fa233928284f5a9c2838d9c5a57f2d2', 'value': 0}, {'address': '0x95113eaf8fcc31b9cce7d2878de55be23f87e3d7', 'value': 1}, {'address': '0xbfb52d25a5aaff846dc9cd3ea95d5b12abbf2864', 'value': 1}, {'address': '0xb268ff98f718967e759adcd47f4cd0a7933eea1e', 'value': 0}, {'address': '0xa1d5816b18db915d3ad97ee5f4618f289d26e58d', 'value': 2}, {'address': '0x10624e111b3ca6c73cbecb0b0deac320d498a3a2', 'value': 1}, {'address': '0xd58b7f2be5e3472857fb9af49cbd327b8ae9680a', 'value': 1}, {'address': '0x0b645e61155eac5ed83e16c92fec641bb8369674', 'value': 1}, {'address': '0xd30d4e1c836ec720d99627d5ab10b542bff631ff', 'value': 1}, {'address': '0x628d7adf5d3071d4e03fb015b2c3efd02e36123a', 'value': 1}, {'address': '0x45848cec8be04581d0f523f091b332835b375140', 'value': 0}, {'address': '0x11d9856b4b78920ee7fa03c44d4a0e1aab4843be', 'value': 1}, {'address': '0x554bc198d083c7c98186473b7b9f38b64d019688', 'value': 1}, {'address': '0x9683cdf6c4a4301b9577a33f4e311097d057152e', 'value': 0}, {'address': '0xf550f641f67000ecc54ebc03e77dd08b67835a5d', 'value': 1}, {'address': '0xaed82f6a0996177bbb1223627fab58cc2d35fa35', 'value': 1}, {'address': '0x1217be881839a1fbadfe994d86f54843a9e6e574', 'value': 1}, {'address': '0x006cf0e580bb1209af57eef9df708d40c7ed285c', 'value': 1}, {'address': '0xae82e2d9e20fb34e1462fcacf3a71e4a896cd6e9', 'value': 1}, {'address': '0x081591764a13e72aeb6bed098e7da34063ea8ac4', 'value': 1}, {'address': '0xe70506e0322dd66b5b63d89d50761f00693ca8d0', 'value': 0}, {'address': '0xd889890a6ff223ae945f1786cfe82ac9fdd0fdc2', 'value': 0}, {'address': '0x5bb1567bb02a1352bfbe01b4e7b4715821c2b79b', 'value': 0}, {'address': '0x5c6c8104f0ec863c0a8bfe3c18dfe9143f6113c3', 'value': 1}, {'address': '0x9f63d4f69973eb8d8f6ca60e5a8deffcbe4c3173', 'value': 1}, {'address': '0x24f2c024bc7a77611912d088d4e36dcc02dbf2b7', 'value': 0}, {'address': '0x8928f477ee132c743995732f4b1baa043f06f690', 'value': 0}, {'address': '0xf924cf4b41eded5bfdfac5abcf52369fbc78a8df', 'value': 1}, {'address': '0x42c5b4e43ebb70abd5fe7681bed2997d253dd3b5', 'value': 1}, {'address': '0xa5a0b7c3dd5dddbfbd51e56b9170bb6d1253788b', 'value': 1}, {'address': '0x43bcd908c653e9f56e59dafb20c683c835d3c0bf', 'value': 1}, {'address': '0xdeaad6a8e74e089e429bdbf08b6f0ec6c6378287', 'value': 1}, {'address': '0xc7359585a1ebbb5a11509ca0ef5f128781362af3', 'value': 1}, {'address': '0x88b4c344e972b3d21e4da8d34207a973e0dda59d', 'value': 1}, {'address': '0x2f71d079066d784f80b24359d8ce4ce7552d5022', 'value': 1}, {'address': '0xab8348ed5151648c7b99d1e8fe9b7a8ce581b26b', 'value': 1}, {'address': '0xe2589eb3d2f79971d160f11eb6b1f3532161fb68', 'value': 1}, {'address': '0x38456ec9162144657e83ae2e7c38756c49bea50c', 'value': 1}, {'address': '0x61ece2230d3fec8012645d093e6439dfa148a31f', 'value': 1}, {'address': '0xa4e6c4cd80d9ba230348e31721d2013329a09cff', 'value': 1}, {'address': '0x700c1e9616f7190f8b20eee581a6168f9c6f5d1e', 'value': 1}, {'address': '0xa61f870d275d61503cf51b017d9acf1cae57c883', 'value': 1}, {'address': '0xcf7dcf7637aa8704c495ffafee909e8b3dd800ef', 'value': 1}, {'address': '0x1c1464211310d8d379735da0926fd3ca96adfd5e', 'value': 1}, {'address': '0x83a1cf8b58a44cbca7180a5e8a8b09fe03efe322', 'value': 1}, {'address': '0x592e97ac8e07760184eaa9588509b3c622efddf5', 'value': 1}, {'address': '0xfc1337e30ab79364f42e50e6071da68d2f7d9e90', 'value': 2}, {'address': '0xd25a2c9a60c39327771fe8bf33930b62f239edc2', 'value': 1}, {'address': '0xc84244044336d3aa128ef5e6324885d906db0d45', 'value': 1}, {'address': '0xd05758e2f2f6ba20742cab4ca7b39656e78354c8', 'value': 1}, {'address': '0x7174846efd113b9ef739b92b89c1f0be6bc5ea56', 'value': 1}, {'address': '0x2e07bb9d444ea922ef2e0483d46ef1a768369266', 'value': 1}, {'address': '0xaa9dba86cda95db8f5bd99a7de783aec583f7ca9', 'value': 1}, {'address': '0x7d2a51ef60403d0df29913826bb29328ca3081de', 'value': 3}, {'address': '0xae7b03941b2afd36ba8056c201b8bf26ad46b2d9', 'value': 2}, {'address': '0x6c286f87f5faa82b05e77fd124f2a37489d46de9', 'value': 1}, {'address': '0x797cd7ebf27ebd44e8aef1af65ae5cc59e5ac455', 'value': 1}, {'address': '0xcbdb48b52c1e8bab683dd69e60fe592c435b7e0f', 'value': 1}, {'address': '0xbe40385c73e3582824dbb1b9bae6ffcf88809ebf', 'value': 1}, {'address': '0x1cd3b63f3cb5296e9e4724321d9338c5d3c3507e', 'value': 1}, {'address': '0x9ffa8af736009ca4fb4885f642f077f4af46cc48', 'value': 1}, {'address': '0xc2056642bbff3927eefd6beb5f3bfffc9e765397', 'value': 1}, {'address': '0x96df400ce4f917bebea79eccc6270a7bcc16d4e2', 'value': 1}, {'address': '0xeafef373e6228f41a25d602f82573ca02ad997a6', 'value': 1}, {'address': '0x6249dea128bc455096cf23a165ec3d753f86c18b', 'value': 1}, {'address': '0x7651044bda9facf9b2ead7374b7699043a60e9fc', 'value': 1}, {'address': '0xe8e209ca03650be9ead741c5bf4bdc7bf9bdaae1', 'value': 2}, {'address': '0xe4731e5c489f56d8307b05c6a955b27ccc16a0de', 'value': 1}, {'address': '0xe49b55119d6a74783ca23482e8dc5a3de21085f5', 'value': 1}, {'address': '0xe47b14ed0302e8c47aadf3a9690be90ad468c621', 'value': 1}, {'address': '0x64d1b3fe79c1ff3bf6604bda4d19c637bd857660', 'value': 1}, {'address': '0xb52ca8ad69225c25a9d5e4353a3c6d6acec126fe', 'value': 1}, {'address': '0x6106957088b9978c5cb183de5d1838d2e3853130', 'value': 0}, {'address': '0x3af9268913feb38abba3bbac50afa339ec55a733', 'value': 1}, {'address': '0xe6432207a30c36818cbf3fc3b4d601c5a2b5783b', 'value': 0}, {'address': '0x0a354f7726882a9a8cf668d38467d494a15becd2', 'value': 0}, {'address': '0x31ba1343a195cc29ceef92976adf952f075989df', 'value': 1}, {'address': '0x1e0aa5c49599e9ffcd03788dc70a889eb6cfb9d0', 'value': 0}, {'address': '0xca415e2cfa2e8e5a3b70a67a5dacd35b896351f3', 'value': 1}, {'address': '0xac93b0618c4ca702005052b6e1c96ecb532b9119', 'value': 0}, {'address': '0xce1708823ba25d937a88bca2ccc645ade2e90297', 'value': 1}, {'address': '0x8571a8ee69681781ae295c915e227e79158ea9b2', 'value': 2}, {'address': '0xa8640e4217fc0584038afd063488466653750938', 'value': 1}, {'address': '0xb41d1e713abc903d60fb971d7f9a6935eacc3b05', 'value': 1}, {'address': '0xc7d620c3e6dc0d54e93abe17f39e955152680dcd', 'value': 1}, {'address': '0xaaffdd518500eb0077c565a2601d317aae0f21a1', 'value': 1}, {'address': '0xd0afa4d58cd41b670e3690c6928ea537493a6157', 'value': 2}, {'address': '0x897c66aa7d4333d61feee5f8956647b8bca08158', 'value': 1}, {'address': '0x99f733f64dcc76f62005a4d33b4b830517c9921a', 'value': 1}, {'address': '0xc812379df969005f335e8db9f6c73b0846a5d020', 'value': 1}, {'address': '0x88b05676913a7959091740972763250b6009282d', 'value': 1}, {'address': '0x4e98a469c306dadff65a94b0109f68fa2ff6f290', 'value': 1}, {'address': '0x4735d83dba7b76f9c5aa846745f0a539c67a68fd', 'value': 1}, {'address': '0x94ed5f30c139eed257ee30703872fb28fae468b6', 'value': 2}, {'address': '0xd21110e07cc7ac5f004675ca6ca8477894989ed8', 'value': 1}, {'address': '0x59471a6a5937383d8be1cab9a0db8ece222fab79', 'value': 1}, {'address': '0x5bf010820cb09866c43bdbeda190a2ffaa55e046', 'value': 2}, {'address': '0x6529ac28e07c2d8db0db5abaae26ac02f2e4536d', 'value': 1}, {'address': '0x68eb82b846a0dce9206442aed512dc8323ddb183', 'value': 1}, {'address': '0x25f1f73a34675f40562e71891c9bc42ce20be2ba', 'value': 1}, {'address': '0xac6cbb033ed16408b3aa6e3770d55d6a1950c7ac', 'value': 2}, {'address': '0x0465a0d22c456ff0220e983f3a6c8f7b1b08cdbc', 'value': 2}, {'address': '0xa6de17b45ca3f2583f20f8f66db6ce3692893724', 'value': 2}, {'address': '0x0c99c4e9d37a9ab8fbd49ebdcea7480e67a16a26', 'value': 2}, {'address': '0x0859f1790c1c75fd577cbf8c66d8a765e66626ce', 'value': 2}, {'address': '0xc35147d958bcdece5fc0430633879b49c0e341b9', 'value': 2}, {'address': '0x078bdbc32c4ce14950ba3ce5d2abccc8b8ae9343', 'value': 2}, {'address': '0x6a937dd021f1c51c9e016bc453db536f1bb0ba1f', 'value': 1}, {'address': '0x67ccbd9218f742a1baf123357c0902bd5f088b4d', 'value': 1}, {'address': '0x71f557152728abfa115a76e9efc12897707ad37c', 'value': 1}, {'address': '0x3665e13ec88d60a490eb8b34acab4a52d46ec8c2', 'value': 1}, {'address': '0xf4a8b052afbd2584d0a12c1711887ef8b2f4b44a', 'value': 1}, {'address': '0xd0e628e2dddf78936b43e9f26818f37183719497', 'value': 2}, {'address': '0x73f16866c53d08764ab63ffc27297ca98297f924', 'value': 1}, {'address': '0x119d8e92ad7bd8760468e34e56ea0af5557b2e6d', 'value': 1}, {'address': '0xd393f5937313dfbf595fa1113ac835607e0c5454', 'value': 2}, {'address': '0x488c3eca67729f23e6d024a7f86cf3dcc21e7462', 'value': 1}, {'address': '0x3a2c928ebc1f57c11dec968ba9f63625d8332ac6', 'value': 1}, {'address': '0x4fe91e9428a24e705f7b889e29589f1041de4e24', 'value': 1}, {'address': '0xbb46c37a7c66e5731a24dc7b52ed6608648e2a08', 'value': 2}, {'address': '0xe2dcb92fefab806c3d4581b5fe69351acf4c3807', 'value': 2}, {'address': '0xda3239782a6d8493b6cc7a30816df93ac9bbec76', 'value': 2}, {'address': '0x06379f27e5e1102342d29d07f941c26725678139', 'value': 1}, {'address': '0x9ab14b124e1468a987f6d37c0c9c992a17de4b39', 'value': 2}, {'address': '0x6e07ccd4aa34cdf9228fa4806f551f955fdde5f2', 'value': 2}, {'address': '0xb096bd647699e5101fce57cfbd10b623c435121e', 'value': 1}, {'address': '0x19c48fa8c9f29e38d846345fe21a502971cea619', 'value': 1}, {'address': '0x63c639fba9e081b0af61a506787f84994b44330a', 'value': 1}, {'address': '0x75ba1e5f7993f515429fb4792ef39ce9949038b1', 'value': 1}, {'address': '0x0d33c8c2f9b1ff1007b2425549615732ad51d1f3', 'value': 1}, {'address': '0x434d4ac37e4a61a213fd2c5cee327a9da39a43fd', 'value': 1}, {'address': '0x676e38146888a8c62de242ce08576c2727e7bfa9', 'value': 1}, {'address': '0xc518cd8bc289c943ce05690923cc6f595df23b50', 'value': 2}, {'address': '0x82b74e0a42e41654f23b53c16f303a515e8f11e5', 'value': 2}, {'address': '0x9127f6538fd45cbed08096f7d57aef2f3c91f3f8', 'value': 1}, {'address': '0x2f9eb05f0c01f62e8b5ff5e72ab4f821b0f956ae', 'value': 1}, {'address': '0x5bc8d3132633ec308b298c4fb7a60072a340628d', 'value': 2}, {'address': '0x405ba2761987f073586899dfa5525b2152464bdd', 'value': 1}, {'address': '0x7731b4842b85d21e33b2164ee0ead9106b6b8f04', 'value': 2}, {'address': '0xfa5ae0e8216acb476bb3b36479c73b0f8412ecd4', 'value': 1}, {'address': '0x005c25473bf2367aa821a7072332820ac9902547', 'value': 1}, {'address': '0xcc3ef894e1f23ce2f383c42bb736fcc0c1dd88f8', 'value': 2}, {'address': '0x8b104344f397afc33ee55c743a0fbd7d956201cd', 'value': 1}, {'address': '0xbc0166529f058ea09f058da2082fd6fd561ccbac', 'value': 1}, {'address': '0xb3c601a85f2a977b945de44986899ce8cb5de18e', 'value': 1}, {'address': '0x9b402e5bf81486c615947ea5572033bb02f07d97', 'value': 1}, {'address': '0x19a6f8138fda0cba03f26743e66f60cd45c0ccc5', 'value': 1}, {'address': '0x55b56a88f8e30b28f953e32137c48a617611cbfb', 'value': 1}, {'address': '0x8385baa1fcfe1fa181a7d58df99c3a461f5e2ab7', 'value': 1}, {'address': '0x9e315e9701908501f6dc68a2af6e28a20c75d970', 'value': 1}, {'address': '0x36e56119f312a1e3beef2c9051479b01045543b5', 'value': 1}, {'address': '0xbb47821572e1932f1b056b5b45d7fdef55f83263', 'value': 1}, {'address': '0x6ae15c26657c4d9bcec11a1d14b9b0db41644adb', 'value': 1}, {'address': '0x9b5a51fbc03f23eaee7abc9ec86dbb74fc1ddbb3', 'value': 1}, {'address': '0x531cc00c57c276f7305d8a584ecacbc89dae35f6', 'value': 1}, {'address': '0x79e6021f1703053d3356f48ef22548356c8e86d2', 'value': 1}, {'address': '0x2ca6ab642185bc49870bc81a609e1ed65feb496e', 'value': 1}, {'address': '0xa7ab0398f022bb4b5ad4aa4e7be509049309d138', 'value': 1}, {'address': '0x2e32935bfd5b2718f99bc8fdf8b37c16811f7d97', 'value': 1}, {'address': '0x68f3f85a4f1cbce327e7a564511c69d2e7f3b5dd', 'value': 1}, {'address': '0x8029dab52f0eadd9a109f8b936adaa03c92da4e8', 'value': 1}, {'address': '0x8af655420ffd8d0cbbd9e7b9222ac1708e8679b4', 'value': 1}, {'address': '0xc4eb72a0ae69c608de29320bf0e9c35607f35678', 'value': 1}, {'address': '0x4911e3049a846a2495c2474d45a4d578abdeaeab', 'value': 2}, {'address': '0x4f835aa9c21c13a31a93a8b3a94027c2f3a21d99', 'value': 1}, {'address': '0x36b0bb45fe0555be0049e0c96aeaaba273100083', 'value': 1}, {'address': '0x6d10359c2ab00a5969526a7fec63f9b6fcf73ccf', 'value': 1}, {'address': '0x0fd1f88a367b966722874bda529a1820a0b40012', 'value': 1}, {'address': '0xbb07f3f046c5b1ee505d587a28285d92321012a3', 'value': 1}, {'address': '0xfaa34e15ed80d5779913f14d540f45e2d6710702', 'value': 1}, {'address': '0x72bed203c9a5eff37e1f55be91f742def6e0e5c7', 'value': 1}, {'address': '0xcad593d2aba2bd2eb37ba39bd6626bb1c851c7c2', 'value': 1}, {'address': '0x481ef13d202a754120be06848ba013af298ba4bd', 'value': 1}, {'address': '0x49cb5fa99616a58910dcd80838d4b10e97f92f01', 'value': 1}, {'address': '0x5eecf60abdf85b6a90e14c649a1eb3778b00ce68', 'value': 1}, {'address': '0x249165d4faa2905c3010eb16e8473b617d56b97b', 'value': 2}, {'address': '0x7a760e525dc31ade5b506239f3aa1be0fc069255', 'value': 1}, {'address': '0xa44aad4cf0fb0d4940c6cf215977c9cd55340f42', 'value': 1}, {'address': '0x7497afc4955e471d81f24419ef8411d7db344ab7', 'value': 1}, {'address': '0x9a30b16595b579c8e4466275d87d26f4e6f22f5f', 'value': 1}, {'address': '0x80230726e4d7269f5d308ef1db2f886da4b95101', 'value': 1}, {'address': '0x26ad3ee2d84760f8aec327575ba9db93489be7df', 'value': 1}, {'address': '0xd764d1dc8a40b80a2b485b95595d6f86855d14c6', 'value': 2}, {'address': '0x53e5bfa3fe947efafd6b8e765e319943e0cb9c5a', 'value': 1}, {'address': '0x9d47a27960662606b95ee29f446bc7426a7c7750', 'value': 1}, {'address': '0x0d117382f75b8887a52bf60f2a964a63d3c431c3', 'value': 1}, {'address': '0x381d12bc04e5d177b2e98a8b032d537744c50c07', 'value': 1}, {'address': '0x41f502f01195652d3dc55a06f71d8d802ada241b', 'value': 1}, {'address': '0x0d77f64fc2683ac5bcbaf2dbd0b7e142ba79491e', 'value': 1}, {'address': '0xe229ede8a37003249fddb6c02b24882faaacc5cf', 'value': 1}, {'address': '0x82c58dfbaa01a51d78f4c4cc1bb15d1330772dc7', 'value': 1}, {'address': '0x109af6075f07b722e1538cc0525b4c6ebc2593aa', 'value': 1}, {'address': '0xcbf941cf764f10bbe8446b47b046f0aeb0e9fa5a', 'value': 1}, {'address': '0xf572ae7011622b9b98078bed5b7ea39b06ded7dc', 'value': 1}, {'address': '0x1bb2d1c711c088345e3e625ae97838873fe5afe1', 'value': 1}, {'address': '0x9d48796ac39fb036eba6c234c50d755e54a9198d', 'value': 1}, {'address': '0x311da3dfe14cc5f032e920ad8c849d9cd1d0e323', 'value': 1}, {'address': '0x2f9079738a5c1587ec502ff86a17c0f3335bd881', 'value': 1}, {'address': '0x5b7a52579775da8f57cfbe8d819e818bd82f5114', 'value': 1}, {'address': '0xaaf0eb7d49cddbb8d6d516689b9427cf69239c9f', 'value': 1}, {'address': '0x0c22b3999f250e63e3687eb2893304667749e6b4', 'value': 1}, {'address': '0xa740910bb90a453efc2103ad3f26438cc1bb3e58', 'value': 1}, {'address': '0x7e1e5c3d458e32f4f00c635089557a4d01c27c50', 'value': 1}, {'address': '0xcc189760f356afdd8aa9296d38e641671495a045', 'value': 1}, {'address': '0x19bc26421e4165b67f82bdb7adbdba6fbfd3d5a4', 'value': 1}, {'address': '0x505920cf689dc11bc0fb6013c4d0ec5c59ebb7c1', 'value': 1}, {'address': '0xb1f5f6f4b445d76b4f33d1f7456144e25f7fc8d5', 'value': 1}, {'address': '0x6c9804f6964462b195bfcb1b9ccbe0e3ece254d4', 'value': 1}, {'address': '0x3286651f7ba59ba8d23025b39a24cb473c9c01b8', 'value': 1}, {'address': '0x498a94f4949cd76b436d907738f3361c15f6e616', 'value': 1}, {'address': '0x4016e62c49f3a5e9d7295d6980af48c1deed44ce', 'value': 1}, {'address': '0xde2c11d0a4c80e728335c786ae172be45dbc5d26', 'value': 1}, {'address': '0x80e9a8acc0be8ece5bf690598d567660fb3d03c9', 'value': 1}, {'address': '0x64e9dbfe672bf01c8969426747ae0b5d873b094f', 'value': 1}, {'address': '0x8debe5f5f17e347e739e3fc0a2effa2b0acf7c2b', 'value': 1}, {'address': '0xe596eb841cd9c67316846e80932be4f240fdf2ed', 'value': 1}, {'address': '0x87660e36f4b42de5491b8dddf9f532d73cacf74d', 'value': 1}, {'address': '0x621dbcc125e233d2512fd6ef879cca819e27e609', 'value': 1}, {'address': '0x36c9b4ef975fc652485dcfc70a6e7eb4ab71aa77', 'value': 1}, {'address': '0xc2b8a715f6424142b4724f0a93cb3d00eabadd8a', 'value': 1}, {'address': '0x4b0ecdb74a306bae495960bcfc33a587a765ab45', 'value': 1}, {'address': '0xa20f362342ee22e56f05b6ba0f143fb21828b6dc', 'value': 1}, {'address': '0x67f20d2596f50bce8bea07c5226efef8d8eb0075', 'value': 1}, {'address': '0x86ca168ad160a31003a5686c3a9de8175c5c1ec2', 'value': 1}, {'address': '0x8cd652e2ed6b546a69329088bb774ad7b1b55764', 'value': 1}, {'address': '0xfa40770383571ee9b73ed7e1b6b1bff437645a6d', 'value': 1}, {'address': '0x18cf725d8587e633bec79a86354810a55518a540', 'value': 1}, {'address': '0x5e225e25591db37526d687fea1f9763439c0ddb6', 'value': 1}, {'address': '0x08f45a692d79b894b70222bab0a5fdd972363cbc', 'value': 1}, {'address': '0xfa7f444d4462786e21686a5a0edb7632dffad7d2', 'value': 1}, {'address': '0xcaf6a331b57f2a8b78c39e133a889216c6123ff3', 'value': 1}, {'address': '0xdaa0f636d3a1d70d9493d0c8ea71fd45c54e4092', 'value': 1}, {'address': '0x201f80b9a06ffa89918dd6f914e4965b83713eba', 'value': 1}, {'address': '0x99c347bba58c6ecacbac71af3cf7312888b367dd', 'value': 1}, {'address': '0xd95a223fd719492b659ab3725ea7204782b6b28a', 'value': 1}, {'address': '0x793b02d3317f34a37739eefcb4b864cb47255bb9', 'value': 1}, {'address': '0x3c5aff19695f6aba087788f76df9e2ff3e38992f', 'value': 1}, {'address': '0xad0ded5526089c648ee4f9336fc0c21068cc4a79', 'value': 1}, {'address': '0x701afa8e3250d65e298d6d624600c3f48fdc31c9', 'value': 1}, {'address': '0xefcb920e7245d8deccb6b04d56a588de5ced2d5f', 'value': 1}, {'address': '0x25df5f3d3c14383bdaa741749a8fb2c7a2b979b2', 'value': 1}, {'address': '0xc6adacbb3e87d300d8db8adff1aedb146d62cb5b', 'value': 1}, {'address': '0xb83da41d586552f2ddb3ce16acb09ba228b764fe', 'value': 1}, {'address': '0x99284b74a2035993a2a4ba12094f772f4a46439e', 'value': 1}, {'address': '0xbab275d808efca341f610e34bc59860a21934214', 'value': 1}, {'address': '0x7a66f8bfe0b7bd3b4b3a1a7bd645473dd0e2a0f2', 'value': 1}, {'address': '0x14eacb94e4b0420434e25a1e811587cbedae0472', 'value': 1}, {'address': '0x40f54351785cba82ed0f10ecd015a4c628bd9a05', 'value': 1}, {'address': '0xa54f4959f0c65f21e07f5884043931c10757792d', 'value': 1}, {'address': '0x8185ded93cc5cabf414001eb532f3cde0f23a527', 'value': 1}, {'address': '0x0dc5f7a2c95104f99034976777ad86de52a87072', 'value': 1}, {'address': '0x30cf8aa72c4e69e35e0e48e785176704d6d70c7d', 'value': 1}, {'address': '0x21684924ee91de57bdd17883cd967039d1367247', 'value': 1}, {'address': '0xd21a1c4a632dde646344413fb642698497b6407a', 'value': 1}, {'address': '0x5eaed780369e77f12862eaac27381962085c07a7', 'value': 1}, {'address': '0x765def1889093ab09b0f53f9f85fc6818d212e1a', 'value': 1}, {'address': '0x54b81031374d0f1309c384d9764062975d1ee1d4', 'value': 1}, {'address': '0x16acbaa6ed73d662a5442e616bf3abe68ae22f0d', 'value': 2}, {'address': '0x5ab04f825764d2e80998075ae6658a0ece9ca33a', 'value': 2}, {'address': '0x6f845e159cfb3b0fb8c406f64478893a4697f820', 'value': 1}, {'address': '0x973e9997bd266b5e70e651870b89c760b6ed1663', 'value': 1}, {'address': '0x6662a76986298b98cba83779f26f619293aebc3a', 'value': 2}, {'address': '0x8f1bb5505d08b2f36727084a906293327900f966', 'value': 1}, {'address': '0x7027fa6ed1e250c10fc922eaf4a2e83707457c39', 'value': 2}, {'address': '0x4ac596297c739dac400fbc2b15aead7ab05ddd35', 'value': 1}, {'address': '0xd88ac941a8d777363066d37943e4eabd27189a81', 'value': 1}, {'address': '0xd04c453461a77b342fea9d1fec55861399401122', 'value': 2}, {'address': '0xa7b33cd26f27f1c6b709db5cae442e42387ba69a', 'value': 1}, {'address': '0x0e08541affa83cca0c97c98f898f3a024d1f13ae', 'value': 2}, {'address': '0x2893f99aef4598c6dee720ec0bcf08f1c994c6e3', 'value': 1}, {'address': '0x53992271b9a58ffb7d196ee243c090cb58fc6e04', 'value': 1}, {'address': '0x49326c97bb76a0304ce0041b5cff1635e012549b', 'value': 1}, {'address': '0x8d957c15d4be53bfd61e03aa943f70db3cef01e4', 'value': 1}, {'address': '0x04b7dbd17a817d22ebd9b35a9a210d8e6e59a7ce', 'value': 2}, {'address': '0xb92517c77272d24fbcbf9f231a455f0bd8db5dbc', 'value': 1}, {'address': '0x2062aff73044e53598f41b632a6f55c3fa0b8ad1', 'value': 1}, {'address': '0x1696c423685b344a08b01be767cd7351a16d30b2', 'value': 1}, {'address': '0x2b3a5ec9c8006282c704e3601da762db361c872b', 'value': 2}, {'address': '0xcec422f780a44046d4416b31f11308329578ddcb', 'value': 2}, {'address': '0xde87db3532e24fd8dbf263f745b3eca1f8534122', 'value': 2}, {'address': '0x08791e717c60a7dd645b3d38dbba5e12b2213776', 'value': 2}, {'address': '0xce40f31a03195aa6218994a35d61349a1ad4447a', 'value': 2}, {'address': '0x632deb8480867ee288802f967b37b3191f09fd97', 'value': 1}, {'address': '0x743ac7273e582a3bceb19cbfda4434fc325247f3', 'value': 2}, {'address': '0x0f7a7b8e9ce2f4dc30d666e2fac250b1a954ceba', 'value': 1}, {'address': '0xed3ac6910fa041ae41eec10c2ae98d9552936f99', 'value': 1}, {'address': '0x3c75d80630b7740272acef875e4560e5ae09fa35', 'value': 1}, {'address': '0x875946ba6cd6c1c6d79e99ce69484035cd074785', 'value': 1}, {'address': '0xb81f446542b67285a1702e347cde228789928f2b', 'value': 2}, {'address': '0x5e7f264bf1fc25cebc81d1a2d103df71335a4c6b', 'value': 1}, {'address': '0x6947b361900bb801a769eb10b0b2af8e95dba542', 'value': 1}, {'address': '0x0faf121dd5674dcbbe9efff28a9f658299f3283c', 'value': 1}, {'address': '0xfd7dc8e5e533e2416040715f5a28ed8fe63a3780', 'value': 1}, {'address': '0xb0c71f98eb3fe41eda201b0e58fad5f17a276b33', 'value': 1}, {'address': '0xfb3e0d5aeec0fad1b83ce8601792677d251b5b12', 'value': 2}, {'address': '0x3bd42df822e6ae65b62be4805a5fc5d7073cce9a', 'value': 1}, {'address': '0x0d0a221321a3cf6609a10a1a955de3947ce40bb1', 'value': 2}, {'address': '0xa8b1218bf2c15db9ab16b251d82b75c2fbb5c6c9', 'value': 2}, {'address': '0xb8a670ae62c10363523402e29848477d60dc5388', 'value': 1}, {'address': '0xc97fe74bb6a984bcc6b9345a54ec6d6c6e71e40d', 'value': 1}, {'address': '0xc5e45c9df45f4c48a4ff046352b68d102dc4aacc', 'value': 1}, {'address': '0xa53a6cda3df8aecbe657d85d82aa5c5bf0b45bb3', 'value': 2}, {'address': '0x9d1b7e28f1bcfa67cee99168d757bf6458267595', 'value': 1}, {'address': '0xf388ddf8047271fac2eb5a09a420202178e72406', 'value': 1}, {'address': '0xeaebcbc878e58b86f32334e5fe0ba754be49ece4', 'value': 1}, {'address': '0xa0f4368c8dda96c7edcea314e1e08c60a6d23253', 'value': 1}, {'address': '0x6aef174ee2b8dff347dd4697c7e080d6effee5f8', 'value': 2}, {'address': '0x71928451a7d128e954f1d8cc7423c1544f3cfdd7', 'value': 1}, {'address': '0xae38971f0d7b3ca53f73f0789cb466ba3c327fa0', 'value': 1}, {'address': '0x0ffcd4ff629fbf52ab9b6eaf2fb73eb2508066bf', 'value': 1}, {'address': '0x2b8c8ddcf9936e99577f36589e7785e9ba11988e', 'value': 1}, {'address': '0x44f94ecc6c9dc898e24b9c9cd24e217eaa7fc33d', 'value': 1}, {'address': '0xd96db5cc5d22102b262ef57c0088776bdf72c54d', 'value': 1}, {'address': '0x641a6374fee81126ea5447848231bc271c055153', 'value': 1}, {'address': '0xc3476038f6e13c218cb1ddb9b671066e97baf485', 'value': 2}, {'address': '0x769794c94e9f113e357023dab73e81dbd6db201c', 'value': 2}, {'address': '0x3dbc212605dd667805a0dcd0a2d9c5ed4238afcc', 'value': 1}, {'address': '0x20e778f732d5b9bd735446ddad0e98597e746208', 'value': 1}, {'address': '0x0b0c99cf1ba4448f474d0fff1d94585e62dda665', 'value': 1}, {'address': '0x9c6785fdf847680db97455d1fa84c3ec355fec26', 'value': 1}, {'address': '0x8c7b31ef7f282330fa705677c185d495356f8026', 'value': 2}, {'address': '0x396313118006ef9c457e8642defc5a939cd70b55', 'value': 1}, {'address': '0x5a1e8fd830e92cae9c6479f4fa2afbc4985f370a', 'value': 1}, {'address': '0xcc9959f4a5e056535d2ea4c5bde436d75f9dbb09', 'value': 1}, {'address': '0x1b0aa2f81e0ec90f18c8f108409224590e33f707', 'value': 2}, {'address': '0x8f076cd5e13ab0dbea58e9d589dc9a0215c57172', 'value': 1}, {'address': '0xa6087aa04377d4392ed11876f8547f6979dd3c3b', 'value': 2}, {'address': '0x5207be7c1bcff2d54be24886a3deec4bba70f28c', 'value': 2}, {'address': '0xf4696b8e8e1fa164e5330f7c76e7a0bae72db0e2', 'value': 2}, {'address': '0x234f011ac24c89bcd69a0adb9d7be64221e7ebb2', 'value': 2}, {'address': '0xa134259c44a95c831d7140a73c028e9db61eb74a', 'value': 1}, {'address': '0x0b1163de496907b6215fd41f2bdf535254164aa7', 'value': 2}, {'address': '0xf30741d61a119b202840f37fa615ef1866758621', 'value': 1}, {'address': '0xd169248ddc069f68e1c71d7d2a6bd6e81c7253ca', 'value': 1}, {'address': '0xbd2088d86b89632c3a844080df3f215635c02a1a', 'value': 1}, {'address': '0xda13a236f498c82ef09d11c38d2733925441ee25', 'value': 2}, {'address': '0xff74f8a8c4e1350c887396d725793fbe3cc406fa', 'value': 0}, {'address': '0x3ede1c08c1634dab39ea98dfe2cb11ef1dd70a68', 'value': 2}, {'address': '0x2585990c1771f14eb4c92bb9eb33b62d92a4171e', 'value': 1}, {'address': '0x53ba6359a9388dbc1f71abafaacc3f1943711cb6', 'value': 1}, {'address': '0x562e221b4a23793fa8c6ee37dd0dafdaf4839629', 'value': 2}, {'address': '0xd00438a4a84142cab81ea2e60837e100c8df49a1', 'value': 2}, {'address': '0x6a7bfbcb1d682c315fea1b9b6f57cc10e7944452', 'value': 2}, {'address': '0x3b8905e0956c302f4ac52df8b511dea724c14a6d', 'value': 1}, {'address': '0xbec3ef491c6d1b24c1720ffc2717de89e924e45b', 'value': 1}, {'address': '0xfc09e978e9a960a4027b367c7e7f77fe443202fb', 'value': 1}, {'address': '0x771828ccda9c45f801f99df5e400e03b7fe3e0ff', 'value': 1}, {'address': '0x93cce42882bbf9b2939f98e9723d3d7b3bb6f554', 'value': 2}, {'address': '0x43bcb483bba8e11ba3a7b28db9b0ec3ef022af7e', 'value': 2}, {'address': '0xaaa0c30e07defc1d5d14431673ec9e7809659d50', 'value': 1}, {'address': '0x084781556ca43e08a6f372cbd016a60b1077876b', 'value': 1}]\n"
     ]
    }
   ],
   "source": [
    "print(hodlersdict['tokenHolders'])\n",
    "addresses = hodlersdict['tokenHolders']"
   ]
  },
  {
   "cell_type": "code",
   "execution_count": 130,
   "metadata": {},
   "outputs": [],
   "source": [
    "df = pd.DataFrame(data=addresses)\n",
    "        "
   ]
  },
  {
   "cell_type": "code",
   "execution_count": 131,
   "metadata": {},
   "outputs": [
    {
     "name": "stdout",
     "output_type": "stream",
     "text": [
      "                                        address  value\n",
      "0    0x0a1cdf92ae3d7ca0ec00578fcf6f256841d138d5      1\n",
      "1    0x8c3b8446d3065190e1c22a45ee379cec1e1dd8c9      1\n",
      "2    0x541528c614027c4c92c75cdd7eb21517c3b97135      1\n",
      "4    0xd4681c26bc16b659125ed238af08091ddcf13db9      1\n",
      "5    0xe36dca383f339294bf73742e57cf305ed1b54ff2      1\n",
      "6    0x7bd91652c6241b684cecc1a0ce1670d4acd266a3      1\n",
      "7    0xb3bb6698d63f833e561ea7ec3d1f540bef3f84d8      1\n",
      "10   0xe0b68438291921c8aefed35c93fecdde750c1bba      1\n",
      "11   0x3e0206d18172c12380ea6b3fbd897c0a9535a499      1\n",
      "12   0x87715862df81a00da1e1b1309d7d6dc02b309e08      1\n",
      "14   0x1947d9cfd6ae6fdc55298a5f40de93d73ea06e85      1\n",
      "16   0xb980e0e063be05168bf6cc9d7e7e9b8986c79950      1\n",
      "17   0x03f1ec9e7df623c4bb2cd90765aa0b73b1bc503e      1\n",
      "18   0x8a76f3428ac3c9de20156d517797b5cc433c44dd      1\n",
      "19   0xa5c843850aedfdc5254ec52dd73c99ff2e648a95      1\n",
      "20   0x33af4dde7f2a2298b97ec5a5accca82d27bb269c      1\n",
      "22   0xdf1028681f67ad71acd904193c36e96c593d09c7      1\n",
      "23   0xfa9a93d83d5b0ba6d8002edd20f3be4416d9bc1c      2\n",
      "24   0x42f17d0bafd731c60bf85bba88db2556499722c9      1\n",
      "27   0x0813219cb05bd99f6c7fe71086ce17c570f2f046      1\n",
      "29   0x4b43041e418b16bb7dcf94a09f721cc73574fc04      1\n",
      "30   0x3b3f4e62da3a073d3c36a70c4dbcce383225ec0d      1\n",
      "31   0x30232adca29def3d8fb47189deeb8aaa465e8f89      1\n",
      "32   0x2f8bb67cbbd0555b0db6c0424d6ee46419f772b7      1\n",
      "35   0x76a26f8f5b57012f8d7caf68a229e09be7dd5359      1\n",
      "37   0x88a878ff8fc3d2c626d698241e635f18b2fa6c6d      1\n",
      "39   0x6372a2d51978fb498a97afc6a2d7eace825493cc      1\n",
      "40   0x1da83833eaa9e9303615f9c03c52e802302bd053      1\n",
      "41   0x339753bf07f69a800aabcdd820264f77ba0ad531      1\n",
      "42   0x7bbdf8ad9da250369217092a3df615241e852ad2      1\n",
      "..                                          ...    ...\n",
      "440  0x8c7b31ef7f282330fa705677c185d495356f8026      2\n",
      "441  0x396313118006ef9c457e8642defc5a939cd70b55      1\n",
      "442  0x5a1e8fd830e92cae9c6479f4fa2afbc4985f370a      1\n",
      "443  0xcc9959f4a5e056535d2ea4c5bde436d75f9dbb09      1\n",
      "444  0x1b0aa2f81e0ec90f18c8f108409224590e33f707      2\n",
      "445  0x8f076cd5e13ab0dbea58e9d589dc9a0215c57172      1\n",
      "446  0xa6087aa04377d4392ed11876f8547f6979dd3c3b      2\n",
      "447  0x5207be7c1bcff2d54be24886a3deec4bba70f28c      2\n",
      "448  0xf4696b8e8e1fa164e5330f7c76e7a0bae72db0e2      2\n",
      "449  0x234f011ac24c89bcd69a0adb9d7be64221e7ebb2      2\n",
      "450  0xa134259c44a95c831d7140a73c028e9db61eb74a      1\n",
      "451  0x0b1163de496907b6215fd41f2bdf535254164aa7      2\n",
      "452  0xf30741d61a119b202840f37fa615ef1866758621      1\n",
      "453  0xd169248ddc069f68e1c71d7d2a6bd6e81c7253ca      1\n",
      "454  0xbd2088d86b89632c3a844080df3f215635c02a1a      1\n",
      "455  0xda13a236f498c82ef09d11c38d2733925441ee25      2\n",
      "457  0x3ede1c08c1634dab39ea98dfe2cb11ef1dd70a68      2\n",
      "458  0x2585990c1771f14eb4c92bb9eb33b62d92a4171e      1\n",
      "459  0x53ba6359a9388dbc1f71abafaacc3f1943711cb6      1\n",
      "460  0x562e221b4a23793fa8c6ee37dd0dafdaf4839629      2\n",
      "461  0xd00438a4a84142cab81ea2e60837e100c8df49a1      2\n",
      "462  0x6a7bfbcb1d682c315fea1b9b6f57cc10e7944452      2\n",
      "463  0x3b8905e0956c302f4ac52df8b511dea724c14a6d      1\n",
      "464  0xbec3ef491c6d1b24c1720ffc2717de89e924e45b      1\n",
      "465  0xfc09e978e9a960a4027b367c7e7f77fe443202fb      1\n",
      "466  0x771828ccda9c45f801f99df5e400e03b7fe3e0ff      1\n",
      "467  0x93cce42882bbf9b2939f98e9723d3d7b3bb6f554      2\n",
      "468  0x43bcb483bba8e11ba3a7b28db9b0ec3ef022af7e      2\n",
      "469  0xaaa0c30e07defc1d5d14431673ec9e7809659d50      1\n",
      "470  0x084781556ca43e08a6f372cbd016a60b1077876b      1\n",
      "\n",
      "[418 rows x 2 columns]\n"
     ]
    }
   ],
   "source": [
    "df2 = df[df.value > 0]\n",
    "print(df2)\n"
   ]
  },
  {
   "cell_type": "code",
   "execution_count": 132,
   "metadata": {},
   "outputs": [
    {
     "name": "stdout",
     "output_type": "stream",
     "text": [
      "['0x0a1cdf92ae3d7ca0ec00578fcf6f256841d138d5', '0x8c3b8446d3065190e1c22a45ee379cec1e1dd8c9', '0x541528c614027c4c92c75cdd7eb21517c3b97135', '0xd4681c26bc16b659125ed238af08091ddcf13db9', '0xe36dca383f339294bf73742e57cf305ed1b54ff2', '0x7bd91652c6241b684cecc1a0ce1670d4acd266a3', '0xb3bb6698d63f833e561ea7ec3d1f540bef3f84d8', '0xe0b68438291921c8aefed35c93fecdde750c1bba', '0x3e0206d18172c12380ea6b3fbd897c0a9535a499', '0x87715862df81a00da1e1b1309d7d6dc02b309e08', '0x1947d9cfd6ae6fdc55298a5f40de93d73ea06e85', '0xb980e0e063be05168bf6cc9d7e7e9b8986c79950', '0x03f1ec9e7df623c4bb2cd90765aa0b73b1bc503e', '0x8a76f3428ac3c9de20156d517797b5cc433c44dd', '0xa5c843850aedfdc5254ec52dd73c99ff2e648a95', '0x33af4dde7f2a2298b97ec5a5accca82d27bb269c', '0xdf1028681f67ad71acd904193c36e96c593d09c7', '0xfa9a93d83d5b0ba6d8002edd20f3be4416d9bc1c', '0x42f17d0bafd731c60bf85bba88db2556499722c9', '0x0813219cb05bd99f6c7fe71086ce17c570f2f046', '0x4b43041e418b16bb7dcf94a09f721cc73574fc04', '0x3b3f4e62da3a073d3c36a70c4dbcce383225ec0d', '0x30232adca29def3d8fb47189deeb8aaa465e8f89', '0x2f8bb67cbbd0555b0db6c0424d6ee46419f772b7', '0x76a26f8f5b57012f8d7caf68a229e09be7dd5359', '0x88a878ff8fc3d2c626d698241e635f18b2fa6c6d', '0x6372a2d51978fb498a97afc6a2d7eace825493cc', '0x1da83833eaa9e9303615f9c03c52e802302bd053', '0x339753bf07f69a800aabcdd820264f77ba0ad531', '0x7bbdf8ad9da250369217092a3df615241e852ad2', '0x29d86fc15cd40f1c8e6d853c159c480d8674740f', '0x663965b034c496a507faa45093d3e171ccb3b9f8', '0x4b3054da60560cdfd2f0805ce2bd796ed5443d2d', '0x05f0cdca5df0977efbce98abf3ec31b716800789', '0x2c6ddcc3c25edb41235cb1afb515390eec05dc82', '0xb5dc8039912f4e84d669bf018d10518411f65579', '0xeabd9d954815fbd4ddb02cfba2be54adcb03237b', '0xbc2d8778bb8b9f93ee199b4876023a9603fb3288', '0x91c7ccd33ac79061770af5e411618c900dd13d47', '0xc68eb46973b7f32e06a2b1a70e4722eb3f57c7b4', '0xa59789f21c8a3b7081d63002deab3e63af322a82', '0x958dfe4f112617f136f9cb084d2fb0238790a4c2', '0xc6f76f5bb6de40dc9ced62e72965099d22ad68b0', '0x79dee822ad0f47285d7d4e81c68a9174c59d7472', '0xbec0be01ac3f6b83eb0bc1f0aeed9a7c34c873ef', '0xcbfe16e4125f1429884ce92f389a4f6045f9a60e', '0xa0e348efe0e2227a075a10b66c0ccdcf9308fdc8', '0x3f8619067a61f4e5219f39997b46733bca0a5490', '0x6ec9a24013ac5bb4b097e2659ee63467718ef770', '0x929a3a6f2439abc5b270b20d5dc025f11b4321da', '0x63a7612fc2a4f77bb8cd05ff02d3136685789a6d', '0x3885e1dd203b0967a642e9e9ed99896e78451f2f', '0x181fb2ce9405a8d19e94c990c3272605399e7d00', '0xba477688fdc1c84f03684b3920b601a1c6d8a501', '0xc16d5a17cce96dc6c58b4817f1f1a651d7c85408', '0xcf0b5492360d271aec9a099437ab3d9fc1c53e77', '0x186b7506c3399e42c9e8c434582f7b4a1212de47', '0x8f1c1cabaa030d9417dac330f0aaac010c7892b4', '0x7e1e653eee24c69cdbd722993da340ed7544baf8', '0xdf9fc1f36bdccfeed46a2c6d38ccd23c3227bfa3', '0x43ee859324e3882150faa78c726a91073612d87c', '0x1a26c8b86ca83b2b86a694ddf35f51e4b530dc99', '0x98b2bd42743f5bea16fb3a5f670049d479e5f77d', '0x928e95693d6269d220ba480361f31c7de534fcfc', '0x724086234daca88213de07411d243bcf6c52ed39', '0xb2b17c5f8c60304c5a5c3630efad273ecf544961', '0x76815d75707778fef3c5e6b2f20b689a8b6a509a', '0xa1ecb46c0be223dff23efda8bd553d17b938af47', '0xe932b28a59ac2847e9c681210a5a9448556b2a22', '0xea1d04cd3a525b2cc8580ca4d401f8edc346a8ed', '0x09086a772d9e9b99380e2735bf4ff3dec3ead8f5', '0xc4f52c2f19c72832fe27f18b6e015cfc248e44cd', '0xc63960277f2351d40a291cf8e66f2c6625f46ac2', '0x4a78c473c73072c2c84cee7c5446912c525dae3b', '0xf3a95fb7cbbf612bd9982083934c7b5b29f7828b', '0xb79060f9b96db5845bf92e32bf90fef288c130c5', '0x0f37f1faa2dd3466e5d6fc7a4d25ec390535c267', '0x6ac5251a40474ab5442a6e17dec0d39d249f61e6', '0x1a51853e50e1bbb4ad2fc916f974c1d4e6e936d7', '0x9596c2d008f9808a73c624ab7dd934ce81f4f507', '0xb66c25d27fc323b12986861a443c0ab3554ebd34', '0xc054552b63f4b36ee8049e26b206b20cd1af1b8e', '0x95113eaf8fcc31b9cce7d2878de55be23f87e3d7', '0xbfb52d25a5aaff846dc9cd3ea95d5b12abbf2864', '0xa1d5816b18db915d3ad97ee5f4618f289d26e58d', '0x10624e111b3ca6c73cbecb0b0deac320d498a3a2', '0xd58b7f2be5e3472857fb9af49cbd327b8ae9680a', '0x0b645e61155eac5ed83e16c92fec641bb8369674', '0xd30d4e1c836ec720d99627d5ab10b542bff631ff', '0x628d7adf5d3071d4e03fb015b2c3efd02e36123a', '0x11d9856b4b78920ee7fa03c44d4a0e1aab4843be', '0x554bc198d083c7c98186473b7b9f38b64d019688', '0xf550f641f67000ecc54ebc03e77dd08b67835a5d', '0xaed82f6a0996177bbb1223627fab58cc2d35fa35', '0x1217be881839a1fbadfe994d86f54843a9e6e574', '0x006cf0e580bb1209af57eef9df708d40c7ed285c', '0xae82e2d9e20fb34e1462fcacf3a71e4a896cd6e9', '0x081591764a13e72aeb6bed098e7da34063ea8ac4', '0x5c6c8104f0ec863c0a8bfe3c18dfe9143f6113c3', '0x9f63d4f69973eb8d8f6ca60e5a8deffcbe4c3173', '0xf924cf4b41eded5bfdfac5abcf52369fbc78a8df', '0x42c5b4e43ebb70abd5fe7681bed2997d253dd3b5', '0xa5a0b7c3dd5dddbfbd51e56b9170bb6d1253788b', '0x43bcd908c653e9f56e59dafb20c683c835d3c0bf', '0xdeaad6a8e74e089e429bdbf08b6f0ec6c6378287', '0xc7359585a1ebbb5a11509ca0ef5f128781362af3', '0x88b4c344e972b3d21e4da8d34207a973e0dda59d', '0x2f71d079066d784f80b24359d8ce4ce7552d5022', '0xab8348ed5151648c7b99d1e8fe9b7a8ce581b26b', '0xe2589eb3d2f79971d160f11eb6b1f3532161fb68', '0x38456ec9162144657e83ae2e7c38756c49bea50c', '0x61ece2230d3fec8012645d093e6439dfa148a31f', '0xa4e6c4cd80d9ba230348e31721d2013329a09cff', '0x700c1e9616f7190f8b20eee581a6168f9c6f5d1e', '0xa61f870d275d61503cf51b017d9acf1cae57c883', '0xcf7dcf7637aa8704c495ffafee909e8b3dd800ef', '0x1c1464211310d8d379735da0926fd3ca96adfd5e', '0x83a1cf8b58a44cbca7180a5e8a8b09fe03efe322', '0x592e97ac8e07760184eaa9588509b3c622efddf5', '0xfc1337e30ab79364f42e50e6071da68d2f7d9e90', '0xd25a2c9a60c39327771fe8bf33930b62f239edc2', '0xc84244044336d3aa128ef5e6324885d906db0d45', '0xd05758e2f2f6ba20742cab4ca7b39656e78354c8', '0x7174846efd113b9ef739b92b89c1f0be6bc5ea56', '0x2e07bb9d444ea922ef2e0483d46ef1a768369266', '0xaa9dba86cda95db8f5bd99a7de783aec583f7ca9', '0x7d2a51ef60403d0df29913826bb29328ca3081de', '0xae7b03941b2afd36ba8056c201b8bf26ad46b2d9', '0x6c286f87f5faa82b05e77fd124f2a37489d46de9', '0x797cd7ebf27ebd44e8aef1af65ae5cc59e5ac455', '0xcbdb48b52c1e8bab683dd69e60fe592c435b7e0f', '0xbe40385c73e3582824dbb1b9bae6ffcf88809ebf', '0x1cd3b63f3cb5296e9e4724321d9338c5d3c3507e', '0x9ffa8af736009ca4fb4885f642f077f4af46cc48', '0xc2056642bbff3927eefd6beb5f3bfffc9e765397', '0x96df400ce4f917bebea79eccc6270a7bcc16d4e2', '0xeafef373e6228f41a25d602f82573ca02ad997a6', '0x6249dea128bc455096cf23a165ec3d753f86c18b', '0x7651044bda9facf9b2ead7374b7699043a60e9fc', '0xe8e209ca03650be9ead741c5bf4bdc7bf9bdaae1', '0xe4731e5c489f56d8307b05c6a955b27ccc16a0de', '0xe49b55119d6a74783ca23482e8dc5a3de21085f5', '0xe47b14ed0302e8c47aadf3a9690be90ad468c621', '0x64d1b3fe79c1ff3bf6604bda4d19c637bd857660', '0xb52ca8ad69225c25a9d5e4353a3c6d6acec126fe', '0x3af9268913feb38abba3bbac50afa339ec55a733', '0x31ba1343a195cc29ceef92976adf952f075989df', '0xca415e2cfa2e8e5a3b70a67a5dacd35b896351f3', '0xce1708823ba25d937a88bca2ccc645ade2e90297', '0x8571a8ee69681781ae295c915e227e79158ea9b2', '0xa8640e4217fc0584038afd063488466653750938', '0xb41d1e713abc903d60fb971d7f9a6935eacc3b05', '0xc7d620c3e6dc0d54e93abe17f39e955152680dcd', '0xaaffdd518500eb0077c565a2601d317aae0f21a1', '0xd0afa4d58cd41b670e3690c6928ea537493a6157', '0x897c66aa7d4333d61feee5f8956647b8bca08158', '0x99f733f64dcc76f62005a4d33b4b830517c9921a', '0xc812379df969005f335e8db9f6c73b0846a5d020', '0x88b05676913a7959091740972763250b6009282d', '0x4e98a469c306dadff65a94b0109f68fa2ff6f290', '0x4735d83dba7b76f9c5aa846745f0a539c67a68fd', '0x94ed5f30c139eed257ee30703872fb28fae468b6', '0xd21110e07cc7ac5f004675ca6ca8477894989ed8', '0x59471a6a5937383d8be1cab9a0db8ece222fab79', '0x5bf010820cb09866c43bdbeda190a2ffaa55e046', '0x6529ac28e07c2d8db0db5abaae26ac02f2e4536d', '0x68eb82b846a0dce9206442aed512dc8323ddb183', '0x25f1f73a34675f40562e71891c9bc42ce20be2ba', '0xac6cbb033ed16408b3aa6e3770d55d6a1950c7ac', '0x0465a0d22c456ff0220e983f3a6c8f7b1b08cdbc', '0xa6de17b45ca3f2583f20f8f66db6ce3692893724', '0x0c99c4e9d37a9ab8fbd49ebdcea7480e67a16a26', '0x0859f1790c1c75fd577cbf8c66d8a765e66626ce', '0xc35147d958bcdece5fc0430633879b49c0e341b9', '0x078bdbc32c4ce14950ba3ce5d2abccc8b8ae9343', '0x6a937dd021f1c51c9e016bc453db536f1bb0ba1f', '0x67ccbd9218f742a1baf123357c0902bd5f088b4d', '0x71f557152728abfa115a76e9efc12897707ad37c', '0x3665e13ec88d60a490eb8b34acab4a52d46ec8c2', '0xf4a8b052afbd2584d0a12c1711887ef8b2f4b44a', '0xd0e628e2dddf78936b43e9f26818f37183719497', '0x73f16866c53d08764ab63ffc27297ca98297f924', '0x119d8e92ad7bd8760468e34e56ea0af5557b2e6d', '0xd393f5937313dfbf595fa1113ac835607e0c5454', '0x488c3eca67729f23e6d024a7f86cf3dcc21e7462', '0x3a2c928ebc1f57c11dec968ba9f63625d8332ac6', '0x4fe91e9428a24e705f7b889e29589f1041de4e24', '0xbb46c37a7c66e5731a24dc7b52ed6608648e2a08', '0xe2dcb92fefab806c3d4581b5fe69351acf4c3807', '0xda3239782a6d8493b6cc7a30816df93ac9bbec76', '0x06379f27e5e1102342d29d07f941c26725678139', '0x9ab14b124e1468a987f6d37c0c9c992a17de4b39', '0x6e07ccd4aa34cdf9228fa4806f551f955fdde5f2', '0xb096bd647699e5101fce57cfbd10b623c435121e', '0x19c48fa8c9f29e38d846345fe21a502971cea619', '0x63c639fba9e081b0af61a506787f84994b44330a', '0x75ba1e5f7993f515429fb4792ef39ce9949038b1', '0x0d33c8c2f9b1ff1007b2425549615732ad51d1f3', '0x434d4ac37e4a61a213fd2c5cee327a9da39a43fd', '0x676e38146888a8c62de242ce08576c2727e7bfa9', '0xc518cd8bc289c943ce05690923cc6f595df23b50', '0x82b74e0a42e41654f23b53c16f303a515e8f11e5', '0x9127f6538fd45cbed08096f7d57aef2f3c91f3f8', '0x2f9eb05f0c01f62e8b5ff5e72ab4f821b0f956ae', '0x5bc8d3132633ec308b298c4fb7a60072a340628d', '0x405ba2761987f073586899dfa5525b2152464bdd', '0x7731b4842b85d21e33b2164ee0ead9106b6b8f04', '0xfa5ae0e8216acb476bb3b36479c73b0f8412ecd4', '0x005c25473bf2367aa821a7072332820ac9902547', '0xcc3ef894e1f23ce2f383c42bb736fcc0c1dd88f8', '0x8b104344f397afc33ee55c743a0fbd7d956201cd', '0xbc0166529f058ea09f058da2082fd6fd561ccbac', '0xb3c601a85f2a977b945de44986899ce8cb5de18e', '0x9b402e5bf81486c615947ea5572033bb02f07d97', '0x19a6f8138fda0cba03f26743e66f60cd45c0ccc5', '0x55b56a88f8e30b28f953e32137c48a617611cbfb', '0x8385baa1fcfe1fa181a7d58df99c3a461f5e2ab7', '0x9e315e9701908501f6dc68a2af6e28a20c75d970', '0x36e56119f312a1e3beef2c9051479b01045543b5', '0xbb47821572e1932f1b056b5b45d7fdef55f83263', '0x6ae15c26657c4d9bcec11a1d14b9b0db41644adb', '0x9b5a51fbc03f23eaee7abc9ec86dbb74fc1ddbb3', '0x531cc00c57c276f7305d8a584ecacbc89dae35f6', '0x79e6021f1703053d3356f48ef22548356c8e86d2', '0x2ca6ab642185bc49870bc81a609e1ed65feb496e', '0xa7ab0398f022bb4b5ad4aa4e7be509049309d138', '0x2e32935bfd5b2718f99bc8fdf8b37c16811f7d97', '0x68f3f85a4f1cbce327e7a564511c69d2e7f3b5dd', '0x8029dab52f0eadd9a109f8b936adaa03c92da4e8', '0x8af655420ffd8d0cbbd9e7b9222ac1708e8679b4', '0xc4eb72a0ae69c608de29320bf0e9c35607f35678', '0x4911e3049a846a2495c2474d45a4d578abdeaeab', '0x4f835aa9c21c13a31a93a8b3a94027c2f3a21d99', '0x36b0bb45fe0555be0049e0c96aeaaba273100083', '0x6d10359c2ab00a5969526a7fec63f9b6fcf73ccf', '0x0fd1f88a367b966722874bda529a1820a0b40012', '0xbb07f3f046c5b1ee505d587a28285d92321012a3', '0xfaa34e15ed80d5779913f14d540f45e2d6710702', '0x72bed203c9a5eff37e1f55be91f742def6e0e5c7', '0xcad593d2aba2bd2eb37ba39bd6626bb1c851c7c2', '0x481ef13d202a754120be06848ba013af298ba4bd', '0x49cb5fa99616a58910dcd80838d4b10e97f92f01', '0x5eecf60abdf85b6a90e14c649a1eb3778b00ce68', '0x249165d4faa2905c3010eb16e8473b617d56b97b', '0x7a760e525dc31ade5b506239f3aa1be0fc069255', '0xa44aad4cf0fb0d4940c6cf215977c9cd55340f42', '0x7497afc4955e471d81f24419ef8411d7db344ab7', '0x9a30b16595b579c8e4466275d87d26f4e6f22f5f', '0x80230726e4d7269f5d308ef1db2f886da4b95101', '0x26ad3ee2d84760f8aec327575ba9db93489be7df', '0xd764d1dc8a40b80a2b485b95595d6f86855d14c6', '0x53e5bfa3fe947efafd6b8e765e319943e0cb9c5a', '0x9d47a27960662606b95ee29f446bc7426a7c7750', '0x0d117382f75b8887a52bf60f2a964a63d3c431c3', '0x381d12bc04e5d177b2e98a8b032d537744c50c07', '0x41f502f01195652d3dc55a06f71d8d802ada241b', '0x0d77f64fc2683ac5bcbaf2dbd0b7e142ba79491e', '0xe229ede8a37003249fddb6c02b24882faaacc5cf', '0x82c58dfbaa01a51d78f4c4cc1bb15d1330772dc7', '0x109af6075f07b722e1538cc0525b4c6ebc2593aa', '0xcbf941cf764f10bbe8446b47b046f0aeb0e9fa5a', '0xf572ae7011622b9b98078bed5b7ea39b06ded7dc', '0x1bb2d1c711c088345e3e625ae97838873fe5afe1', '0x9d48796ac39fb036eba6c234c50d755e54a9198d', '0x311da3dfe14cc5f032e920ad8c849d9cd1d0e323', '0x2f9079738a5c1587ec502ff86a17c0f3335bd881', '0x5b7a52579775da8f57cfbe8d819e818bd82f5114', '0xaaf0eb7d49cddbb8d6d516689b9427cf69239c9f', '0x0c22b3999f250e63e3687eb2893304667749e6b4', '0xa740910bb90a453efc2103ad3f26438cc1bb3e58', '0x7e1e5c3d458e32f4f00c635089557a4d01c27c50', '0xcc189760f356afdd8aa9296d38e641671495a045', '0x19bc26421e4165b67f82bdb7adbdba6fbfd3d5a4', '0x505920cf689dc11bc0fb6013c4d0ec5c59ebb7c1', '0xb1f5f6f4b445d76b4f33d1f7456144e25f7fc8d5', '0x6c9804f6964462b195bfcb1b9ccbe0e3ece254d4', '0x3286651f7ba59ba8d23025b39a24cb473c9c01b8', '0x498a94f4949cd76b436d907738f3361c15f6e616', '0x4016e62c49f3a5e9d7295d6980af48c1deed44ce', '0xde2c11d0a4c80e728335c786ae172be45dbc5d26', '0x80e9a8acc0be8ece5bf690598d567660fb3d03c9', '0x64e9dbfe672bf01c8969426747ae0b5d873b094f', '0x8debe5f5f17e347e739e3fc0a2effa2b0acf7c2b', '0xe596eb841cd9c67316846e80932be4f240fdf2ed', '0x87660e36f4b42de5491b8dddf9f532d73cacf74d', '0x621dbcc125e233d2512fd6ef879cca819e27e609', '0x36c9b4ef975fc652485dcfc70a6e7eb4ab71aa77', '0xc2b8a715f6424142b4724f0a93cb3d00eabadd8a', '0x4b0ecdb74a306bae495960bcfc33a587a765ab45', '0xa20f362342ee22e56f05b6ba0f143fb21828b6dc', '0x67f20d2596f50bce8bea07c5226efef8d8eb0075', '0x86ca168ad160a31003a5686c3a9de8175c5c1ec2', '0x8cd652e2ed6b546a69329088bb774ad7b1b55764', '0xfa40770383571ee9b73ed7e1b6b1bff437645a6d', '0x18cf725d8587e633bec79a86354810a55518a540', '0x5e225e25591db37526d687fea1f9763439c0ddb6', '0x08f45a692d79b894b70222bab0a5fdd972363cbc', '0xfa7f444d4462786e21686a5a0edb7632dffad7d2', '0xcaf6a331b57f2a8b78c39e133a889216c6123ff3', '0xdaa0f636d3a1d70d9493d0c8ea71fd45c54e4092', '0x201f80b9a06ffa89918dd6f914e4965b83713eba', '0x99c347bba58c6ecacbac71af3cf7312888b367dd', '0xd95a223fd719492b659ab3725ea7204782b6b28a', '0x793b02d3317f34a37739eefcb4b864cb47255bb9', '0x3c5aff19695f6aba087788f76df9e2ff3e38992f', '0xad0ded5526089c648ee4f9336fc0c21068cc4a79', '0x701afa8e3250d65e298d6d624600c3f48fdc31c9', '0xefcb920e7245d8deccb6b04d56a588de5ced2d5f', '0x25df5f3d3c14383bdaa741749a8fb2c7a2b979b2', '0xc6adacbb3e87d300d8db8adff1aedb146d62cb5b', '0xb83da41d586552f2ddb3ce16acb09ba228b764fe', '0x99284b74a2035993a2a4ba12094f772f4a46439e', '0xbab275d808efca341f610e34bc59860a21934214', '0x7a66f8bfe0b7bd3b4b3a1a7bd645473dd0e2a0f2', '0x14eacb94e4b0420434e25a1e811587cbedae0472', '0x40f54351785cba82ed0f10ecd015a4c628bd9a05', '0xa54f4959f0c65f21e07f5884043931c10757792d', '0x8185ded93cc5cabf414001eb532f3cde0f23a527', '0x0dc5f7a2c95104f99034976777ad86de52a87072', '0x30cf8aa72c4e69e35e0e48e785176704d6d70c7d', '0x21684924ee91de57bdd17883cd967039d1367247', '0xd21a1c4a632dde646344413fb642698497b6407a', '0x5eaed780369e77f12862eaac27381962085c07a7', '0x765def1889093ab09b0f53f9f85fc6818d212e1a', '0x54b81031374d0f1309c384d9764062975d1ee1d4', '0x16acbaa6ed73d662a5442e616bf3abe68ae22f0d', '0x5ab04f825764d2e80998075ae6658a0ece9ca33a', '0x6f845e159cfb3b0fb8c406f64478893a4697f820', '0x973e9997bd266b5e70e651870b89c760b6ed1663', '0x6662a76986298b98cba83779f26f619293aebc3a', '0x8f1bb5505d08b2f36727084a906293327900f966', '0x7027fa6ed1e250c10fc922eaf4a2e83707457c39', '0x4ac596297c739dac400fbc2b15aead7ab05ddd35', '0xd88ac941a8d777363066d37943e4eabd27189a81', '0xd04c453461a77b342fea9d1fec55861399401122', '0xa7b33cd26f27f1c6b709db5cae442e42387ba69a', '0x0e08541affa83cca0c97c98f898f3a024d1f13ae', '0x2893f99aef4598c6dee720ec0bcf08f1c994c6e3', '0x53992271b9a58ffb7d196ee243c090cb58fc6e04', '0x49326c97bb76a0304ce0041b5cff1635e012549b', '0x8d957c15d4be53bfd61e03aa943f70db3cef01e4', '0x04b7dbd17a817d22ebd9b35a9a210d8e6e59a7ce', '0xb92517c77272d24fbcbf9f231a455f0bd8db5dbc', '0x2062aff73044e53598f41b632a6f55c3fa0b8ad1', '0x1696c423685b344a08b01be767cd7351a16d30b2', '0x2b3a5ec9c8006282c704e3601da762db361c872b', '0xcec422f780a44046d4416b31f11308329578ddcb', '0xde87db3532e24fd8dbf263f745b3eca1f8534122', '0x08791e717c60a7dd645b3d38dbba5e12b2213776', '0xce40f31a03195aa6218994a35d61349a1ad4447a', '0x632deb8480867ee288802f967b37b3191f09fd97', '0x743ac7273e582a3bceb19cbfda4434fc325247f3', '0x0f7a7b8e9ce2f4dc30d666e2fac250b1a954ceba', '0xed3ac6910fa041ae41eec10c2ae98d9552936f99', '0x3c75d80630b7740272acef875e4560e5ae09fa35', '0x875946ba6cd6c1c6d79e99ce69484035cd074785', '0xb81f446542b67285a1702e347cde228789928f2b', '0x5e7f264bf1fc25cebc81d1a2d103df71335a4c6b', '0x6947b361900bb801a769eb10b0b2af8e95dba542', '0x0faf121dd5674dcbbe9efff28a9f658299f3283c', '0xfd7dc8e5e533e2416040715f5a28ed8fe63a3780', '0xb0c71f98eb3fe41eda201b0e58fad5f17a276b33', '0xfb3e0d5aeec0fad1b83ce8601792677d251b5b12', '0x3bd42df822e6ae65b62be4805a5fc5d7073cce9a', '0x0d0a221321a3cf6609a10a1a955de3947ce40bb1', '0xa8b1218bf2c15db9ab16b251d82b75c2fbb5c6c9', '0xb8a670ae62c10363523402e29848477d60dc5388', '0xc97fe74bb6a984bcc6b9345a54ec6d6c6e71e40d', '0xc5e45c9df45f4c48a4ff046352b68d102dc4aacc', '0xa53a6cda3df8aecbe657d85d82aa5c5bf0b45bb3', '0x9d1b7e28f1bcfa67cee99168d757bf6458267595', '0xf388ddf8047271fac2eb5a09a420202178e72406', '0xeaebcbc878e58b86f32334e5fe0ba754be49ece4', '0xa0f4368c8dda96c7edcea314e1e08c60a6d23253', '0x6aef174ee2b8dff347dd4697c7e080d6effee5f8', '0x71928451a7d128e954f1d8cc7423c1544f3cfdd7', '0xae38971f0d7b3ca53f73f0789cb466ba3c327fa0', '0x0ffcd4ff629fbf52ab9b6eaf2fb73eb2508066bf', '0x2b8c8ddcf9936e99577f36589e7785e9ba11988e', '0x44f94ecc6c9dc898e24b9c9cd24e217eaa7fc33d', '0xd96db5cc5d22102b262ef57c0088776bdf72c54d', '0x641a6374fee81126ea5447848231bc271c055153', '0xc3476038f6e13c218cb1ddb9b671066e97baf485', '0x769794c94e9f113e357023dab73e81dbd6db201c', '0x3dbc212605dd667805a0dcd0a2d9c5ed4238afcc', '0x20e778f732d5b9bd735446ddad0e98597e746208', '0x0b0c99cf1ba4448f474d0fff1d94585e62dda665', '0x9c6785fdf847680db97455d1fa84c3ec355fec26', '0x8c7b31ef7f282330fa705677c185d495356f8026', '0x396313118006ef9c457e8642defc5a939cd70b55', '0x5a1e8fd830e92cae9c6479f4fa2afbc4985f370a', '0xcc9959f4a5e056535d2ea4c5bde436d75f9dbb09', '0x1b0aa2f81e0ec90f18c8f108409224590e33f707', '0x8f076cd5e13ab0dbea58e9d589dc9a0215c57172', '0xa6087aa04377d4392ed11876f8547f6979dd3c3b', '0x5207be7c1bcff2d54be24886a3deec4bba70f28c', '0xf4696b8e8e1fa164e5330f7c76e7a0bae72db0e2', '0x234f011ac24c89bcd69a0adb9d7be64221e7ebb2', '0xa134259c44a95c831d7140a73c028e9db61eb74a', '0x0b1163de496907b6215fd41f2bdf535254164aa7', '0xf30741d61a119b202840f37fa615ef1866758621', '0xd169248ddc069f68e1c71d7d2a6bd6e81c7253ca', '0xbd2088d86b89632c3a844080df3f215635c02a1a', '0xda13a236f498c82ef09d11c38d2733925441ee25', '0x3ede1c08c1634dab39ea98dfe2cb11ef1dd70a68', '0x2585990c1771f14eb4c92bb9eb33b62d92a4171e', '0x53ba6359a9388dbc1f71abafaacc3f1943711cb6', '0x562e221b4a23793fa8c6ee37dd0dafdaf4839629', '0xd00438a4a84142cab81ea2e60837e100c8df49a1', '0x6a7bfbcb1d682c315fea1b9b6f57cc10e7944452', '0x3b8905e0956c302f4ac52df8b511dea724c14a6d', '0xbec3ef491c6d1b24c1720ffc2717de89e924e45b', '0xfc09e978e9a960a4027b367c7e7f77fe443202fb', '0x771828ccda9c45f801f99df5e400e03b7fe3e0ff', '0x93cce42882bbf9b2939f98e9723d3d7b3bb6f554', '0x43bcb483bba8e11ba3a7b28db9b0ec3ef022af7e', '0xaaa0c30e07defc1d5d14431673ec9e7809659d50', '0x084781556ca43e08a6f372cbd016a60b1077876b']\n"
     ]
    },
    {
     "data": {
      "text/plain": [
       "str"
      ]
     },
     "execution_count": 132,
     "metadata": {},
     "output_type": "execute_result"
    }
   ],
   "source": [
    "FTHodlers = df2['address'].values.tolist()\n",
    "print(FTHodlers)\n",
    "type(FTHodlers[0])"
   ]
  },
  {
   "cell_type": "code",
   "execution_count": 133,
   "metadata": {},
   "outputs": [
    {
     "name": "stdout",
     "output_type": "stream",
     "text": [
      "[1, 1, 1, 1, 1, 1, 1, 1, 1, 1, 1, 1, 1, 1, 1, 1, 1, 2, 1, 1, 1, 1, 1, 1, 1, 1, 1, 1, 1, 1, 2, 1, 1, 1, 1, 1, 1, 1, 1, 1, 1, 2, 1, 1, 4, 1, 1, 1, 1, 4, 1, 1, 1, 1, 1, 1, 1, 1, 1, 4, 1, 1, 1, 1, 1, 1, 1, 2, 1, 1, 1, 1, 1, 1, 1, 1, 1, 1, 2, 1, 1, 1, 1, 1, 2, 1, 1, 1, 1, 1, 1, 1, 1, 1, 1, 1, 1, 1, 1, 1, 1, 1, 1, 1, 1, 1, 1, 1, 1, 1, 1, 1, 1, 1, 1, 1, 1, 1, 1, 2, 1, 1, 1, 1, 1, 1, 3, 2, 1, 1, 1, 1, 1, 1, 1, 1, 1, 1, 1, 2, 1, 1, 1, 1, 1, 1, 1, 1, 1, 2, 1, 1, 1, 1, 2, 1, 1, 1, 1, 1, 1, 2, 1, 1, 2, 1, 1, 1, 2, 2, 2, 2, 2, 2, 2, 1, 1, 1, 1, 1, 2, 1, 1, 2, 1, 1, 1, 2, 2, 2, 1, 2, 2, 1, 1, 1, 1, 1, 1, 1, 2, 2, 1, 1, 2, 1, 2, 1, 1, 2, 1, 1, 1, 1, 1, 1, 1, 1, 1, 1, 1, 1, 1, 1, 1, 1, 1, 1, 1, 1, 1, 2, 1, 1, 1, 1, 1, 1, 1, 1, 1, 1, 1, 2, 1, 1, 1, 1, 1, 1, 2, 1, 1, 1, 1, 1, 1, 1, 1, 1, 1, 1, 1, 1, 1, 1, 1, 1, 1, 1, 1, 1, 1, 1, 1, 1, 1, 1, 1, 1, 1, 1, 1, 1, 1, 1, 1, 1, 1, 1, 1, 1, 1, 1, 1, 1, 1, 1, 1, 1, 1, 1, 1, 1, 1, 1, 1, 1, 1, 1, 1, 1, 1, 1, 1, 1, 1, 1, 1, 1, 1, 1, 1, 1, 1, 2, 2, 1, 1, 2, 1, 2, 1, 1, 2, 1, 2, 1, 1, 1, 1, 2, 1, 1, 1, 2, 2, 2, 2, 2, 1, 2, 1, 1, 1, 1, 2, 1, 1, 1, 1, 1, 2, 1, 2, 2, 1, 1, 1, 2, 1, 1, 1, 1, 2, 1, 1, 1, 1, 1, 1, 1, 2, 2, 1, 1, 1, 1, 2, 1, 1, 1, 2, 1, 2, 2, 2, 2, 1, 2, 1, 1, 1, 2, 2, 1, 1, 2, 2, 2, 1, 1, 1, 1, 2, 2, 1, 1]\n"
     ]
    }
   ],
   "source": [
    "ValueArray = df2['value'].values.tolist()\n",
    "print(ValueArray)"
   ]
  },
  {
   "cell_type": "code",
   "execution_count": 134,
   "metadata": {},
   "outputs": [
    {
     "name": "stdout",
     "output_type": "stream",
     "text": [
      "[1, 1, 1, 1, 1, 1, 1, 1, 1, 1, 1, 1, 1, 1, 1, 1, 1, 1, 1, 1, 1, 1, 1, 1, 1, 1, 1, 1, 1, 1, 1, 1, 1, 1, 1, 1, 1, 1, 1, 1, 1, 1, 1, 1, 1, 1, 1, 1, 1, 1, 1, 1, 1, 1, 1, 1, 1, 1, 1, 1, 1, 1, 1, 1, 1, 1, 1, 1, 1, 1, 1, 1, 1, 1, 1, 1, 1, 1, 1, 1, 1, 1, 1, 1, 1, 1, 1, 1, 1, 1, 1, 1, 1, 1, 1, 1, 1, 1, 1, 1, 1, 1, 1, 1, 1, 1, 1, 1, 1, 1, 1, 1, 1, 1, 1, 1, 1, 1, 1, 1, 1, 1, 1, 1, 1, 1, 1, 1, 1, 1, 1, 1, 1, 1, 1, 1, 1, 1, 1, 1, 1, 1, 1, 1, 1, 1, 1, 1, 1, 1, 1, 1, 1, 1, 1, 1, 1, 1, 1, 1, 1, 1, 1, 1, 1, 1, 1, 1, 1, 1, 1, 1, 1, 1, 1, 1, 1, 1, 1, 1, 1, 1, 1, 1, 1, 1, 1, 1, 1, 1, 1, 1, 1, 1, 1, 1, 1, 1, 1, 1, 1, 1, 1, 1, 1, 1, 1, 1, 1, 1, 1, 1, 1, 1, 1, 1, 1, 1, 1, 1, 1, 1, 1, 1, 1, 1, 1, 1, 1, 1, 1, 1, 1, 1, 1, 1, 1, 1, 1, 1, 1, 1, 1, 1, 1, 1, 1, 1, 1, 1, 1, 1, 1, 1, 1, 1, 1, 1, 1, 1, 1, 1, 1, 1, 1, 1, 1, 1, 1, 1, 1, 1, 1, 1, 1, 1, 1, 1, 1, 1, 1, 1, 1, 1, 1, 1, 1, 1, 1, 1, 1, 1, 1, 1, 1, 1, 1, 1, 1, 1, 1, 1, 1, 1, 1, 1, 1, 1, 1, 1, 1, 1, 1, 1, 1, 1, 1, 1, 1, 1, 1, 1, 1, 1, 1, 1, 1, 1, 1, 1, 1, 1, 1, 1, 1, 1, 1, 1, 1, 1, 1, 1, 1, 1, 1, 1, 1, 1, 1, 1, 1, 1, 1, 1, 1, 1, 1, 1, 1, 1, 1, 1, 1, 1, 1, 1, 1, 1, 1, 1, 1, 1, 1, 1, 1, 1, 1, 1, 1, 1, 1, 1, 1, 1, 1, 1, 1, 1, 1, 1, 1, 1, 1, 1, 1, 1, 1, 1, 1, 1, 1, 1, 1, 1, 1, 1, 1, 1, 1, 1, 1, 1, 1, 1, 1, 1, 1, 1]\n"
     ]
    }
   ],
   "source": [
    "ValueArray = df2['value'].values.tolist()\n",
    "for index, item in enumerate(ValueArray):\n",
    "        ValueArray[index] = 1\n",
    "\n",
    "print(ValueArray)"
   ]
  },
  {
   "cell_type": "code",
   "execution_count": 135,
   "metadata": {},
   "outputs": [],
   "source": [
    "# if you're using the web GraphQL you need to chop your mints into chunks\n",
    "def chunks(l, n):\n",
    "    # For item i in a range that is a length of l,\n",
    "    for i in range(0, len(l), n):\n",
    "        # Create an index range for l of n items:\n",
    "        yield l[i:i+n]\n",
    "HodlerChunks = list(chunks(FTHodlers, 50))\n",
    "ValueChunks = list(chunks(ValueArray, 50))"
   ]
  },
  {
   "cell_type": "code",
   "execution_count": 136,
   "metadata": {},
   "outputs": [
    {
     "name": "stdout",
     "output_type": "stream",
     "text": [
      "0x0a1cdf92ae3d7ca0ec00578fcf6f256841d138d5\", \"0x8c3b8446d3065190e1c22a45ee379cec1e1dd8c9\", \"0x541528c614027c4c92c75cdd7eb21517c3b97135\", \"0xd4681c26bc16b659125ed238af08091ddcf13db9\", \"0xe36dca383f339294bf73742e57cf305ed1b54ff2\", \"0x7bd91652c6241b684cecc1a0ce1670d4acd266a3\", \"0xb3bb6698d63f833e561ea7ec3d1f540bef3f84d8\", \"0xe0b68438291921c8aefed35c93fecdde750c1bba\", \"0x3e0206d18172c12380ea6b3fbd897c0a9535a499\", \"0x87715862df81a00da1e1b1309d7d6dc02b309e08\", \"0x1947d9cfd6ae6fdc55298a5f40de93d73ea06e85\", \"0xb980e0e063be05168bf6cc9d7e7e9b8986c79950\", \"0x03f1ec9e7df623c4bb2cd90765aa0b73b1bc503e\", \"0x8a76f3428ac3c9de20156d517797b5cc433c44dd\", \"0xa5c843850aedfdc5254ec52dd73c99ff2e648a95\", \"0x33af4dde7f2a2298b97ec5a5accca82d27bb269c\", \"0xdf1028681f67ad71acd904193c36e96c593d09c7\", \"0xfa9a93d83d5b0ba6d8002edd20f3be4416d9bc1c\", \"0x42f17d0bafd731c60bf85bba88db2556499722c9\", \"0x0813219cb05bd99f6c7fe71086ce17c570f2f046\", \"0x4b43041e418b16bb7dcf94a09f721cc73574fc04\", \"0x3b3f4e62da3a073d3c36a70c4dbcce383225ec0d\", \"0x30232adca29def3d8fb47189deeb8aaa465e8f89\", \"0x2f8bb67cbbd0555b0db6c0424d6ee46419f772b7\", \"0x76a26f8f5b57012f8d7caf68a229e09be7dd5359\", \"0x88a878ff8fc3d2c626d698241e635f18b2fa6c6d\", \"0x6372a2d51978fb498a97afc6a2d7eace825493cc\", \"0x1da83833eaa9e9303615f9c03c52e802302bd053\", \"0x339753bf07f69a800aabcdd820264f77ba0ad531\", \"0x7bbdf8ad9da250369217092a3df615241e852ad2\", \"0x29d86fc15cd40f1c8e6d853c159c480d8674740f\", \"0x663965b034c496a507faa45093d3e171ccb3b9f8\", \"0x4b3054da60560cdfd2f0805ce2bd796ed5443d2d\", \"0x05f0cdca5df0977efbce98abf3ec31b716800789\", \"0x2c6ddcc3c25edb41235cb1afb515390eec05dc82\", \"0xb5dc8039912f4e84d669bf018d10518411f65579\", \"0xeabd9d954815fbd4ddb02cfba2be54adcb03237b\", \"0xbc2d8778bb8b9f93ee199b4876023a9603fb3288\", \"0x91c7ccd33ac79061770af5e411618c900dd13d47\", \"0xc68eb46973b7f32e06a2b1a70e4722eb3f57c7b4\", \"0xa59789f21c8a3b7081d63002deab3e63af322a82\", \"0x958dfe4f112617f136f9cb084d2fb0238790a4c2\", \"0xc6f76f5bb6de40dc9ced62e72965099d22ad68b0\", \"0x79dee822ad0f47285d7d4e81c68a9174c59d7472\", \"0xbec0be01ac3f6b83eb0bc1f0aeed9a7c34c873ef\", \"0xcbfe16e4125f1429884ce92f389a4f6045f9a60e\", \"0xa0e348efe0e2227a075a10b66c0ccdcf9308fdc8\", \"0x3f8619067a61f4e5219f39997b46733bca0a5490\", \"0x6ec9a24013ac5bb4b097e2659ee63467718ef770\", \"0x929a3a6f2439abc5b270b20d5dc025f11b4321da\n"
     ]
    }
   ],
   "source": [
    "print ('\", \"'.join(HodlerChunks[0]))"
   ]
  },
  {
   "cell_type": "code",
   "execution_count": 137,
   "metadata": {},
   "outputs": [
    {
     "name": "stdout",
     "output_type": "stream",
     "text": [
      "[1, 1, 1, 1, 1, 1, 1, 1, 1, 1, 1, 1, 1, 1, 1, 1, 1, 1, 1, 1, 1, 1, 1, 1, 1, 1, 1, 1, 1, 1, 1, 1, 1, 1, 1, 1, 1, 1, 1, 1, 1, 1, 1, 1, 1, 1, 1, 1, 1, 1]\n"
     ]
    }
   ],
   "source": [
    "print(ValueChunks[0])"
   ]
  },
  {
   "cell_type": "code",
   "execution_count": 138,
   "metadata": {},
   "outputs": [
    {
     "name": "stdout",
     "output_type": "stream",
     "text": [
      "$BCD\n"
     ]
    }
   ],
   "source": [
    "s = 'ABCD'\n",
    "s = s.replace('A','$')\n",
    "print(s)"
   ]
  },
  {
   "cell_type": "code",
   "execution_count": 139,
   "metadata": {},
   "outputs": [
    {
     "data": {
      "text/html": [
       "<div>\n",
       "<style scoped>\n",
       "    .dataframe tbody tr th:only-of-type {\n",
       "        vertical-align: middle;\n",
       "    }\n",
       "\n",
       "    .dataframe tbody tr th {\n",
       "        vertical-align: top;\n",
       "    }\n",
       "\n",
       "    .dataframe thead th {\n",
       "        text-align: right;\n",
       "    }\n",
       "</style>\n",
       "<table border=\"1\" class=\"dataframe\">\n",
       "  <thead>\n",
       "    <tr style=\"text-align: right;\">\n",
       "      <th></th>\n",
       "      <th>address</th>\n",
       "      <th>value</th>\n",
       "    </tr>\n",
       "  </thead>\n",
       "  <tbody>\n",
       "  </tbody>\n",
       "</table>\n",
       "</div>"
      ],
      "text/plain": [
       "Empty DataFrame\n",
       "Columns: [address, value]\n",
       "Index: []"
      ]
     },
     "execution_count": 139,
     "metadata": {},
     "output_type": "execute_result"
    }
   ],
   "source": [
    "df3 = df[df.address == '0x663965B034c496a507FaA45093d3E171Ccb3b9f8']\n",
    "df3"
   ]
  },
  {
   "cell_type": "code",
   "execution_count": 141,
   "metadata": {},
   "outputs": [],
   "source": [
    "export_csv = df2.to_csv (r'\\hodlers.csv', index = None, header=True)"
   ]
  },
  {
   "cell_type": "code",
   "execution_count": null,
   "metadata": {},
   "outputs": [],
   "source": []
  }
 ],
 "metadata": {
  "kernelspec": {
   "display_name": "Python 3",
   "language": "python",
   "name": "python3"
  },
  "language_info": {
   "codemirror_mode": {
    "name": "ipython",
    "version": 3
   },
   "file_extension": ".py",
   "mimetype": "text/x-python",
   "name": "python",
   "nbconvert_exporter": "python",
   "pygments_lexer": "ipython3",
   "version": "3.7.1"
  }
 },
 "nbformat": 4,
 "nbformat_minor": 2
}
